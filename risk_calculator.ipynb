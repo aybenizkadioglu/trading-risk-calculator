{
 "cells": [
  {
   "cell_type": "code",
   "execution_count": 7,
   "id": "ae48a3c3-1262-49f2-b985-5d92f8019c76",
   "metadata": {},
   "outputs": [],
   "source": [
    "import pandas as pd\n",
    "import numpy as np\n",
    "import matplotlib.pyplot as plt"
   ]
  },
  {
   "cell_type": "code",
   "execution_count": 9,
   "id": "949cd950-f620-4165-aad9-fc3bc5e8eb41",
   "metadata": {},
   "outputs": [
    {
     "data": {
      "text/html": [
       "<div>\n",
       "<style scoped>\n",
       "    .dataframe tbody tr th:only-of-type {\n",
       "        vertical-align: middle;\n",
       "    }\n",
       "\n",
       "    .dataframe tbody tr th {\n",
       "        vertical-align: top;\n",
       "    }\n",
       "\n",
       "    .dataframe thead th {\n",
       "        text-align: right;\n",
       "    }\n",
       "</style>\n",
       "<table border=\"1\" class=\"dataframe\">\n",
       "  <thead>\n",
       "    <tr style=\"text-align: right;\">\n",
       "      <th></th>\n",
       "      <th>Date</th>\n",
       "      <th>Asset</th>\n",
       "      <th>Position</th>\n",
       "      <th>Volatility</th>\n",
       "      <th>Exposure</th>\n",
       "    </tr>\n",
       "  </thead>\n",
       "  <tbody>\n",
       "    <tr>\n",
       "      <th>0</th>\n",
       "      <td>2025-08-01</td>\n",
       "      <td>AAPL</td>\n",
       "      <td>Long</td>\n",
       "      <td>0.12</td>\n",
       "      <td>100000</td>\n",
       "    </tr>\n",
       "    <tr>\n",
       "      <th>1</th>\n",
       "      <td>2025-08-01</td>\n",
       "      <td>GOOGL</td>\n",
       "      <td>Short</td>\n",
       "      <td>0.18</td>\n",
       "      <td>150000</td>\n",
       "    </tr>\n",
       "    <tr>\n",
       "      <th>2</th>\n",
       "      <td>2025-08-01</td>\n",
       "      <td>MSFT</td>\n",
       "      <td>Long</td>\n",
       "      <td>0.09</td>\n",
       "      <td>90000</td>\n",
       "    </tr>\n",
       "    <tr>\n",
       "      <th>3</th>\n",
       "      <td>2025-08-01</td>\n",
       "      <td>TSLA</td>\n",
       "      <td>Short</td>\n",
       "      <td>0.25</td>\n",
       "      <td>120000</td>\n",
       "    </tr>\n",
       "    <tr>\n",
       "      <th>4</th>\n",
       "      <td>2025-08-01</td>\n",
       "      <td>AMZN</td>\n",
       "      <td>Long</td>\n",
       "      <td>0.15</td>\n",
       "      <td>130000</td>\n",
       "    </tr>\n",
       "  </tbody>\n",
       "</table>\n",
       "</div>"
      ],
      "text/plain": [
       "         Date  Asset Position  Volatility  Exposure\n",
       "0  2025-08-01   AAPL     Long        0.12    100000\n",
       "1  2025-08-01  GOOGL    Short        0.18    150000\n",
       "2  2025-08-01   MSFT     Long        0.09     90000\n",
       "3  2025-08-01   TSLA    Short        0.25    120000\n",
       "4  2025-08-01   AMZN     Long        0.15    130000"
      ]
     },
     "execution_count": 9,
     "metadata": {},
     "output_type": "execute_result"
    }
   ],
   "source": [
    "data = {\n",
    "    'Date': ['2025-08-01'] * 5,\n",
    "    'Asset': ['AAPL', 'GOOGL', 'MSFT', 'TSLA', 'AMZN'],\n",
    "    'Position': ['Long', 'Short', 'Long', 'Short', 'Long'],\n",
    "    'Volatility': [0.12, 0.18, 0.09, 0.25, 0.15],\n",
    "    'Exposure': [100000, 150000, 90000, 120000, 130000]\n",
    "}\n",
    "\n",
    "df = pd.DataFrame(data)\n",
    "df\n"
   ]
  },
  {
   "cell_type": "code",
   "execution_count": 13,
   "id": "33f1851f-5a58-4cfb-bb85-301f4c0cc568",
   "metadata": {},
   "outputs": [
    {
     "data": {
      "text/html": [
       "<div>\n",
       "<style scoped>\n",
       "    .dataframe tbody tr th:only-of-type {\n",
       "        vertical-align: middle;\n",
       "    }\n",
       "\n",
       "    .dataframe tbody tr th {\n",
       "        vertical-align: top;\n",
       "    }\n",
       "\n",
       "    .dataframe thead th {\n",
       "        text-align: right;\n",
       "    }\n",
       "</style>\n",
       "<table border=\"1\" class=\"dataframe\">\n",
       "  <thead>\n",
       "    <tr style=\"text-align: right;\">\n",
       "      <th></th>\n",
       "      <th>Asset</th>\n",
       "      <th>Volatility</th>\n",
       "      <th>Exposure</th>\n",
       "      <th>Risk Score</th>\n",
       "    </tr>\n",
       "  </thead>\n",
       "  <tbody>\n",
       "    <tr>\n",
       "      <th>0</th>\n",
       "      <td>AAPL</td>\n",
       "      <td>0.12</td>\n",
       "      <td>100000</td>\n",
       "      <td>12000.0</td>\n",
       "    </tr>\n",
       "    <tr>\n",
       "      <th>1</th>\n",
       "      <td>GOOGL</td>\n",
       "      <td>0.18</td>\n",
       "      <td>150000</td>\n",
       "      <td>27000.0</td>\n",
       "    </tr>\n",
       "    <tr>\n",
       "      <th>2</th>\n",
       "      <td>MSFT</td>\n",
       "      <td>0.09</td>\n",
       "      <td>90000</td>\n",
       "      <td>8100.0</td>\n",
       "    </tr>\n",
       "    <tr>\n",
       "      <th>3</th>\n",
       "      <td>TSLA</td>\n",
       "      <td>0.25</td>\n",
       "      <td>120000</td>\n",
       "      <td>30000.0</td>\n",
       "    </tr>\n",
       "    <tr>\n",
       "      <th>4</th>\n",
       "      <td>AMZN</td>\n",
       "      <td>0.15</td>\n",
       "      <td>130000</td>\n",
       "      <td>19500.0</td>\n",
       "    </tr>\n",
       "  </tbody>\n",
       "</table>\n",
       "</div>"
      ],
      "text/plain": [
       "   Asset  Volatility  Exposure  Risk Score\n",
       "0   AAPL        0.12    100000     12000.0\n",
       "1  GOOGL        0.18    150000     27000.0\n",
       "2   MSFT        0.09     90000      8100.0\n",
       "3   TSLA        0.25    120000     30000.0\n",
       "4   AMZN        0.15    130000     19500.0"
      ]
     },
     "execution_count": 13,
     "metadata": {},
     "output_type": "execute_result"
    }
   ],
   "source": [
    "#Calculate Risk Score by multiplying Volatility and Exposure\n",
    "df['Risk Score'] = df['Volatility'] * df['Exposure']\n",
    "\n",
    "#Display relevant colums with the calculated score\n",
    "df [['Asset', 'Volatility', 'Exposure', 'Risk Score']]"
   ]
  },
  {
   "cell_type": "code",
   "execution_count": null,
   "id": "25509cbf-11b3-4042-a32d-052fd4522418",
   "metadata": {},
   "outputs": [],
   "source": [
    "#This risk calculator gives us a quick way to estimate how much financial risk is associated with each asset. Tesla stands out as the highest-risk investment due to both high volatility and significant exposure, while Microsoft represents the safest position. This kind of analysis can support better investment decisions by quantifying exposure-related risk"
   ]
  },
  {
   "cell_type": "code",
   "execution_count": 15,
   "id": "cc8a63a9-b08e-41bc-95cf-ebf9850c43ae",
   "metadata": {},
   "outputs": [
    {
     "data": {
      "image/png": "[encoded data removed]",
      "text/plain": [
       "<Figure size 800x500 with 1 Axes>"
      ]
     },
     "metadata": {},
     "output_type": "display_data"
    }
   ],
   "source": [
    "import matplotlib.pyplot as plt\n",
    "\n",
    "# Bar chart of Risk Scores by Asset\n",
    "plt.figure(figsize=(8, 5))\n",
    "plt.bar(df['Asset'], df['Risk Score'], color='salmon', edgecolor='black')\n",
    "\n",
    "plt.title('Risk Score by Asset')\n",
    "plt.xlabel('Asset')\n",
    "plt.ylabel('Risk Score')\n",
    "plt.grid(axis='y', linestyle='--', alpha=0.7)\n",
    "plt.tight_layout()\n",
    "plt.show()\n"
   ]
  },
  {
   "cell_type": "code",
   "execution_count": null,
   "id": "355b4b58-28b0-4d40-90ed-979f34327df5",
   "metadata": {},
   "outputs": [],
   "source": []
  }
 ],
 "metadata": {
  "kernelspec": {
   "display_name": "Python 3 (ipykernel)",
   "language": "python",
   "name": "python3"
  },
  "language_info": {
   "codemirror_mode": {
    "name": "ipython",
    "version": 3
   },
   "file_extension": ".py",
   "mimetype": "text/x-python",
   "name": "python",
   "nbconvert_exporter": "python",
   "pygments_lexer": "ipython3",
   "version": "3.12.4"
  }
 },
 "nbformat": 4,
 "nbformat_minor": 5
}
